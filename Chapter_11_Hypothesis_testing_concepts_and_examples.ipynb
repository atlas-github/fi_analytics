{
  "nbformat": 4,
  "nbformat_minor": 0,
  "metadata": {
    "colab": {
      "name": "Chapter 11: Hypothesis testing: concepts and examples.ipynb",
      "provenance": [],
      "collapsed_sections": [],
      "authorship_tag": "ABX9TyMtxoMdvnajUW/Jy23vJmar",
      "include_colab_link": true
    },
    "kernelspec": {
      "name": "python3",
      "display_name": "Python 3"
    }
  },
  "cells": [
    {
      "cell_type": "markdown",
      "metadata": {
        "id": "view-in-github",
        "colab_type": "text"
      },
      "source": [
        "<a href=\"https://colab.research.google.com/github/atlas-github/fi_analytics/blob/master/Chapter_11_Hypothesis_testing_concepts_and_examples.ipynb\" target=\"_parent\"><img src=\"https://colab.research.google.com/assets/colab-badge.svg\" alt=\"Open In Colab\"/></a>"
      ]
    },
    {
      "cell_type": "markdown",
      "metadata": {
        "id": "wBwhan6Y82VK",
        "colab_type": "text"
      },
      "source": [
        "##One sample t-test"
      ]
    },
    {
      "cell_type": "markdown",
      "metadata": {
        "id": "GjKdfJcn86h0",
        "colab_type": "text"
      },
      "source": [
        "Using a short Python script, the code would be:"
      ]
    },
    {
      "cell_type": "code",
      "metadata": {
        "id": "7wF4IsJr8o-N",
        "colab_type": "code",
        "colab": {
          "base_uri": "https://localhost:8080/",
          "height": 34
        },
        "outputId": "ae3cc455-87e7-4fce-c93a-05bc5f6d686e"
      },
      "source": [
        "from scipy import stats\n",
        "\n",
        "sample1 = [128, 126, 119, 114, 146, 140, 135, 138, 135, 128, 114, 129, 150, 124, 142, 118, 134, 126, 127, 127]\n",
        "\n",
        "stats.ttest_1samp(sample1, 120)"
      ],
      "execution_count": 1,
      "outputs": [
        {
          "output_type": "execute_result",
          "data": {
            "text/plain": [
              "Ttest_1sampResult(statistic=4.469784055833502, pvalue=0.0002625920272762138)"
            ]
          },
          "metadata": {
            "tags": []
          },
          "execution_count": 1
        }
      ]
    },
    {
      "cell_type": "markdown",
      "metadata": {
        "id": "rnrTbx3p9ar3",
        "colab_type": "text"
      },
      "source": [
        "The p-value is significantly less than 0.05, so the null hypothesis is rejected. There is a statistically significant difference between the blood pressures of the sample and the population"
      ]
    },
    {
      "cell_type": "markdown",
      "metadata": {
        "id": "9pzrQ8pg9Aqj",
        "colab_type": "text"
      },
      "source": [
        "##Two sample t-test"
      ]
    },
    {
      "cell_type": "markdown",
      "metadata": {
        "id": "pVMLBml89Gn5",
        "colab_type": "text"
      },
      "source": [
        "The Python script would look like this:"
      ]
    },
    {
      "cell_type": "code",
      "metadata": {
        "id": "fLCGBNY384Mr",
        "colab_type": "code",
        "colab": {
          "base_uri": "https://localhost:8080/",
          "height": 34
        },
        "outputId": "491c9971-aca5-4ae3-acc3-2daa83e168c3"
      },
      "source": [
        "from scipy import stats\n",
        "\n",
        "sample1 = [128, 126, 119, 114, 146, 140, 135, 138, 135, 128, 114, 129, 150, 124, 142, 118, 134, 126, 127, 127]\n",
        "\n",
        "sample2 = [118, 116, 111, 121, 122, 132, 121, 112, 117, 124, 120, 128, 128, 128, 109, 118, 121, 123, 122, 129]\n",
        "\n",
        "stats.ttest_ind(sample1, sample2, equal_var=False)"
      ],
      "execution_count": 2,
      "outputs": [
        {
          "output_type": "execute_result",
          "data": {
            "text/plain": [
              "Ttest_indResult(statistic=3.418427884676446, pvalue=0.0017469015807571465)"
            ]
          },
          "metadata": {
            "tags": []
          },
          "execution_count": 2
        }
      ]
    },
    {
      "cell_type": "markdown",
      "metadata": {
        "id": "wZW3TVmO9Jae",
        "colab_type": "text"
      },
      "source": [
        "##Paired t-test"
      ]
    },
    {
      "cell_type": "markdown",
      "metadata": {
        "id": "vqMU3Bz89SD9",
        "colab_type": "text"
      },
      "source": [
        "The Python script would look like this:"
      ]
    },
    {
      "cell_type": "code",
      "metadata": {
        "id": "0JXHm5un9IjH",
        "colab_type": "code",
        "colab": {
          "base_uri": "https://localhost:8080/",
          "height": 34
        },
        "outputId": "856cf2c3-24bf-45c9-deda-c45ad5b8fe56"
      },
      "source": [
        "from scipy import stats\n",
        "\n",
        "before = [9, 6.1, 8.5, 4.7, 6.2, 6.4, 5.7, 10.1, 5.3, 2.8]\n",
        "after = [10.9, 6.9, 9.6, 4.8, 6.1, 10.9, 11.5, 11.7, 9.9, 6.2]\n",
        "\n",
        "stats.ttest_rel(before, after)"
      ],
      "execution_count": 4,
      "outputs": [
        {
          "output_type": "execute_result",
          "data": {
            "text/plain": [
              "Ttest_relResult(statistic=-3.624485995178213, pvalue=0.005532940816100147)"
            ]
          },
          "metadata": {
            "tags": []
          },
          "execution_count": 4
        }
      ]
    },
    {
      "cell_type": "markdown",
      "metadata": {
        "id": "zbYYSMpi9hsC",
        "colab_type": "text"
      },
      "source": [
        "The p-value obtained is less than 0.05, so the null hypothesis should be rejected. "
      ]
    },
    {
      "cell_type": "markdown",
      "metadata": {
        "id": "ShX0xA3d9ktj",
        "colab_type": "text"
      },
      "source": [
        "##z-test"
      ]
    },
    {
      "cell_type": "markdown",
      "metadata": {
        "id": "t6hl4hdF9oC4",
        "colab_type": "text"
      },
      "source": [
        "Using the [statsmodels](https://www.statsmodels.org/stable/generated/statsmodels.stats.weightstats.ztest.html) library for the z-test, the script should look like below.  "
      ]
    },
    {
      "cell_type": "code",
      "metadata": {
        "id": "T8fU-MtT9T8g",
        "colab_type": "code",
        "colab": {
          "base_uri": "https://localhost:8080/",
          "height": 88
        },
        "outputId": "fd34d965-fb0a-4072-cbec-017b6715fa59"
      },
      "source": [
        "from statsmodels.stats.weightstats import ztest\n",
        "\n",
        "gain = [3.50, 2.38, 3.33, 1.92, 2.47, 2.48, 2.35, 3.72, 2.22, 1.28,\n",
        "        4.03, 2.65, 3.60, 1.95, 2.43, 3.98, 4.23, 4.25, 3.70, 2.42,\n",
        "        3.40, 2.38, 3.23, 2.48, 2.30, 3.72, 4.03, 2.70, 3.55, 2.43,\n",
        "        4.03, 4.23, 3.35, 2.43, 3.18]\n",
        "\n",
        "ztest(x1 = gain, value = 2.5, alternative = 'larger')"
      ],
      "execution_count": 5,
      "outputs": [
        {
          "output_type": "stream",
          "text": [
            "/usr/local/lib/python3.6/dist-packages/statsmodels/tools/_testing.py:19: FutureWarning: pandas.util.testing is deprecated. Use the functions in the public API at pandas.testing instead.\n",
            "  import pandas.util.testing as tm\n"
          ],
          "name": "stderr"
        },
        {
          "output_type": "execute_result",
          "data": {
            "text/plain": [
              "(4.006354707207111, 3.083151329152138e-05)"
            ]
          },
          "metadata": {
            "tags": []
          },
          "execution_count": 5
        }
      ]
    },
    {
      "cell_type": "markdown",
      "metadata": {
        "id": "CN8kgGzd9yTb",
        "colab_type": "text"
      },
      "source": [
        "##Chi-square test"
      ]
    },
    {
      "cell_type": "markdown",
      "metadata": {
        "id": "f3sEo3cH949_",
        "colab_type": "text"
      },
      "source": [
        "Using the scipy library, the script would resemble the following:"
      ]
    },
    {
      "cell_type": "code",
      "metadata": {
        "id": "VD4F7fdE9tgj",
        "colab_type": "code",
        "colab": {
          "base_uri": "https://localhost:8080/",
          "height": 34
        },
        "outputId": "1964542a-d084-4272-8749-a747a1804341"
      },
      "source": [
        "from scipy.stats import chisquare\n",
        "chisquare([450, 350, 100, 350, 450, 300])"
      ],
      "execution_count": 6,
      "outputs": [
        {
          "output_type": "execute_result",
          "data": {
            "text/plain": [
              "Power_divergenceResult(statistic=250.00000000000003, pvalue=5.4969224674550846e-52)"
            ]
          },
          "metadata": {
            "tags": []
          },
          "execution_count": 6
        }
      ]
    },
    {
      "cell_type": "markdown",
      "metadata": {
        "id": "Fvidw0hk97hK",
        "colab_type": "text"
      },
      "source": [
        "The `chisquare` function returns two values: the chi squared test `statistic` which is 250, and the `p-value` of the test. Since the `p-value` is lower than 0.05, this indicates there is some association between the variables. This is expected, as Party C seems to have a larger pull factor among women than men."
      ]
    }
  ]
}