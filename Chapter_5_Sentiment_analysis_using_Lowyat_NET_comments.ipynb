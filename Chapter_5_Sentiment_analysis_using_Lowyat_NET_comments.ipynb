{
  "nbformat": 4,
  "nbformat_minor": 0,
  "metadata": {
    "colab": {
      "name": "Chapter 5: Sentiment analysis using Lowyat.NET comments.ipynb",
      "provenance": [],
      "collapsed_sections": [],
      "authorship_tag": "ABX9TyOXoHZwOB+xvGFokdakjZH3",
      "include_colab_link": true
    },
    "kernelspec": {
      "name": "python3",
      "display_name": "Python 3"
    }
  },
  "cells": [
    {
      "cell_type": "markdown",
      "metadata": {
        "id": "view-in-github",
        "colab_type": "text"
      },
      "source": [
        "<a href=\"https://colab.research.google.com/github/atlas-github/fi_analytics/blob/master/Chapter_5_Sentiment_analysis_using_Lowyat_NET_comments.ipynb\" target=\"_parent\"><img src=\"https://colab.research.google.com/assets/colab-badge.svg\" alt=\"Open In Colab\"/></a>"
      ]
    },
    {
      "cell_type": "markdown",
      "metadata": {
        "id": "1go0CEK-pP-q",
        "colab_type": "text"
      },
      "source": [
        "#Scrape"
      ]
    },
    {
      "cell_type": "markdown",
      "metadata": {
        "id": "g3vSlvTcpg5N",
        "colab_type": "text"
      },
      "source": [
        "Now that the sections of the HTML code are known, start by scraping the first page of the thread."
      ]
    },
    {
      "cell_type": "code",
      "metadata": {
        "id": "5tDFMGIyoogp",
        "colab_type": "code",
        "colab": {
          "base_uri": "https://localhost:8080/",
          "height": 34
        },
        "outputId": "00501093-8024-4298-f198-637998396880"
      },
      "source": [
        "import requests\n",
        "import urllib.request\n",
        "from bs4 import BeautifulSoup\n",
        "import pandas as pd\n",
        "\n",
        "url = \"https://forum.lowyat.net/topic/4828500\"\n",
        "\n",
        "response = requests.get(url)\n",
        "response"
      ],
      "execution_count": 1,
      "outputs": [
        {
          "output_type": "execute_result",
          "data": {
            "text/plain": [
              "<Response [200]>"
            ]
          },
          "metadata": {
            "tags": []
          },
          "execution_count": 1
        }
      ]
    },
    {
      "cell_type": "markdown",
      "metadata": {
        "id": "0_MlvPoKqFEh",
        "colab_type": "text"
      },
      "source": [
        "Scrape the comments next. Comments are in **`<div class=\"postcolor post_text\" data-postid=\"93743887\">Lod incoming<br> <!--IBF.ATTACHMENT_93743887--></div>`** (i.e. div class called postcolor post_text)."
      ]
    },
    {
      "cell_type": "markdown",
      "metadata": {
        "id": "zWkcqypXpq9w",
        "colab_type": "text"
      },
      "source": [
        "#Parse"
      ]
    },
    {
      "cell_type": "markdown",
      "metadata": {
        "id": "g7y8dmd-py0J",
        "colab_type": "text"
      },
      "source": [
        "Use `BeautifulSoup`’s `html.parser` to look for all `div` classes named `postcolor post_text`. Get the text within the HTML data using `get_text(). comments_list` should resemble the results as follows. "
      ]
    },
    {
      "cell_type": "code",
      "metadata": {
        "id": "sJGcXwS4pyHt",
        "colab_type": "code",
        "colab": {
          "base_uri": "https://localhost:8080/",
          "height": 377
        },
        "outputId": "866df019-8555-4d7c-a851-6793da80d27b"
      },
      "source": [
        "soup = BeautifulSoup(response.text, \"html.parser\")\n",
        "comments = soup.findAll(\"div\",{'class':\"postcolor post_text\"})\n",
        "\n",
        "comments_temp = list(comments)\n",
        "\n",
        "comments_list = []\n",
        "\n",
        "for i in range(len(comments)):\n",
        "    comments_list.append(comments[i].get_text())\n",
        "\n",
        "comments_list"
      ],
      "execution_count": 2,
      "outputs": [
        {
          "output_type": "execute_result",
          "data": {
            "text/plain": [
              "['    Bloody useless Octopus Bank.Early they said the apps is down and ask us to use Web version, now the web version is down.  I want to transfer money right now also cannot.This post has been edited by cringe: Aug 26 2019, 10:39 PM ',\n",
              " 'Lod incoming ',\n",
              " 'could it be another security issue? jeng jeng jeng.gif ',\n",
              " \"QUOTE(Lyu @ Aug 26 2019, 10:38 PM)Lod incomingWhat LOD. I'm Getting frustrated with this bank. \",\n",
              " 'Yup. Progressively getting worse with a major acceleration this year. ',\n",
              " \"QUOTE(cringe @ Aug 26 2019, 10:42 PM)What LOD. I'm Getting frustrated with this bank.Y limited thee self to one...? \",\n",
              " 'QUOTE(Lyu @ Aug 26 2019, 10:38 PM)Lod incomingLyu, you applied CC already? ',\n",
              " \"QUOTE(Baconateer @ Aug 26 2019, 10:42 PM)could it be another security issue? jeng jeng jeng.gifUsing KLIA's system. Plot twist. \",\n",
              " 'Its been down since morning. Only got to use the web version at abt 7+. Trf my money out to rhb in case app down again. ',\n",
              " 'Ive said it again n againMb2u > all ',\n",
              " 'one is tiger bank, one is otopus bank.same species je ',\n",
              " \"QUOTE(CWW88 @ Aug 26 2019, 10:44 PM)Its been down since morning. Only got to use the web version at abt 7+. Trf my money out to rhb in case app down again.QUOTE(ketupatlazat @ Aug 26 2019, 10:44 PM)Ive said it again n againMb2u > allThe only reason i'm using CIMB is because my salary credited to CIMB and I forgot to transfer my money to other bank. \",\n",
              " \"QUOTE(cringe @ Aug 26 2019, 10:45 PM)The only reason i'm using CIMB is because my salary credited to CIMB and I forgot to transfer my money to other bank.use standing instruction bro \",\n",
              " 'dam agree, dats why i have 2 bank maybank and cimb  ',\n",
              " 'QUOTE(JoeK @ Aug 26 2019, 10:43 PM)Lyu, you applied CC already?Not yet... Figured out HLB got good cashback But my area no HLB ',\n",
              " 'QUOTE(cringe @ Aug 26 2019, 10:37 PM)\\xa0 \\xa0 \\xa0  Bloody useless Octopus Bank.Early they said the apps is down and ask us to use Web version, now the web version is down.  I want to transfer money right now also cannot.Today many customers go cimb withdraw wang ',\n",
              " 'eh , damn bodo this cimb ',\n",
              " 'QUOTE(Lyu @ Aug 26 2019, 10:51 PM)Not yet... Figured out HLB got good cashback But my area no HLBWhich one? Hong Leong wise card ah? That one have to pay annual fee right? Not worth it.Cashback cimb bestest i think ',\n",
              " 'CIMB is down again.  ',\n",
              " 'topkek bank ']"
            ]
          },
          "metadata": {
            "tags": []
          },
          "execution_count": 2
        }
      ]
    },
    {
      "cell_type": "markdown",
      "metadata": {
        "id": "pMOP8TGXqbIn",
        "colab_type": "text"
      },
      "source": [
        "Now go for the usernames. Usernames are in **`<span class=\"normalname\"><a href=\"/user/Lyu\">Lyu</a></span>`** (i.e. span class called normalname). Modify the `soup.findAll` code to look for all `span` classes named `normalname`."
      ]
    },
    {
      "cell_type": "code",
      "metadata": {
        "id": "KMZ6MMbOpQpB",
        "colab_type": "code",
        "colab": {
          "base_uri": "https://localhost:8080/",
          "height": 357
        },
        "outputId": "3672dab0-e6c7-425d-be97-0de271939908"
      },
      "source": [
        "soup2 = BeautifulSoup(response.text, \"html.parser\")\n",
        "names = soup2.findAll(\"span\", {\"class\": \"normalname\"})\n",
        "names_temp = list(names)\n",
        "names_list = []\n",
        "\n",
        "for i in range(len(names)):\n",
        "    names_list.append(names[i].get_text())\n",
        "\n",
        "names_list"
      ],
      "execution_count": 6,
      "outputs": [
        {
          "output_type": "execute_result",
          "data": {
            "text/plain": [
              "['TScringe',\n",
              " 'Lyu',\n",
              " 'Baconateer',\n",
              " 'TScringe',\n",
              " 'thesoothsayer',\n",
              " 'Lyu',\n",
              " 'JoeK',\n",
              " 'sp6068',\n",
              " 'CWW88',\n",
              " 'ketupatlazat',\n",
              " 'alexkos',\n",
              " 'TScringe',\n",
              " 'alexkos',\n",
              " 'KcX35',\n",
              " 'Lyu',\n",
              " 'judehow',\n",
              " 'robert82',\n",
              " 'JoeK',\n",
              " 'TScringe',\n",
              " 'robert82']"
            ]
          },
          "metadata": {
            "tags": []
          },
          "execution_count": 6
        }
      ]
    },
    {
      "cell_type": "markdown",
      "metadata": {
        "id": "xQ9sNEtsrUff",
        "colab_type": "text"
      },
      "source": [
        "Now that the usernames and comments have been obtained, merge both lists into a Python dataframe. "
      ]
    },
    {
      "cell_type": "code",
      "metadata": {
        "id": "q6wbWZVgqoUi",
        "colab_type": "code",
        "colab": {
          "base_uri": "https://localhost:8080/",
          "height": 669
        },
        "outputId": "b12f0e46-98b1-4d8a-d06a-e5693fdc624b"
      },
      "source": [
        "compiled_list = list(zip(names_list, comments_list))\n",
        "dataframe = pd.DataFrame(compiled_list, columns = [\"Person\", \"Comment\"])\n",
        "dataframe"
      ],
      "execution_count": 7,
      "outputs": [
        {
          "output_type": "execute_result",
          "data": {
            "text/html": [
              "<div>\n",
              "<style scoped>\n",
              "    .dataframe tbody tr th:only-of-type {\n",
              "        vertical-align: middle;\n",
              "    }\n",
              "\n",
              "    .dataframe tbody tr th {\n",
              "        vertical-align: top;\n",
              "    }\n",
              "\n",
              "    .dataframe thead th {\n",
              "        text-align: right;\n",
              "    }\n",
              "</style>\n",
              "<table border=\"1\" class=\"dataframe\">\n",
              "  <thead>\n",
              "    <tr style=\"text-align: right;\">\n",
              "      <th></th>\n",
              "      <th>Person</th>\n",
              "      <th>Comment</th>\n",
              "    </tr>\n",
              "  </thead>\n",
              "  <tbody>\n",
              "    <tr>\n",
              "      <th>0</th>\n",
              "      <td>TScringe</td>\n",
              "      <td>Bloody useless Octopus Bank.Early they sai...</td>\n",
              "    </tr>\n",
              "    <tr>\n",
              "      <th>1</th>\n",
              "      <td>Lyu</td>\n",
              "      <td>Lod incoming</td>\n",
              "    </tr>\n",
              "    <tr>\n",
              "      <th>2</th>\n",
              "      <td>Baconateer</td>\n",
              "      <td>could it be another security issue? jeng jeng ...</td>\n",
              "    </tr>\n",
              "    <tr>\n",
              "      <th>3</th>\n",
              "      <td>TScringe</td>\n",
              "      <td>QUOTE(Lyu @ Aug 26 2019, 10:38 PM)Lod incoming...</td>\n",
              "    </tr>\n",
              "    <tr>\n",
              "      <th>4</th>\n",
              "      <td>thesoothsayer</td>\n",
              "      <td>Yup. Progressively getting worse with a major ...</td>\n",
              "    </tr>\n",
              "    <tr>\n",
              "      <th>5</th>\n",
              "      <td>Lyu</td>\n",
              "      <td>QUOTE(cringe @ Aug 26 2019, 10:42 PM)What LOD....</td>\n",
              "    </tr>\n",
              "    <tr>\n",
              "      <th>6</th>\n",
              "      <td>JoeK</td>\n",
              "      <td>QUOTE(Lyu @ Aug 26 2019, 10:38 PM)Lod incoming...</td>\n",
              "    </tr>\n",
              "    <tr>\n",
              "      <th>7</th>\n",
              "      <td>sp6068</td>\n",
              "      <td>QUOTE(Baconateer @ Aug 26 2019, 10:42 PM)could...</td>\n",
              "    </tr>\n",
              "    <tr>\n",
              "      <th>8</th>\n",
              "      <td>CWW88</td>\n",
              "      <td>Its been down since morning. Only got to use t...</td>\n",
              "    </tr>\n",
              "    <tr>\n",
              "      <th>9</th>\n",
              "      <td>ketupatlazat</td>\n",
              "      <td>Ive said it again n againMb2u &gt; all</td>\n",
              "    </tr>\n",
              "    <tr>\n",
              "      <th>10</th>\n",
              "      <td>alexkos</td>\n",
              "      <td>one is tiger bank, one is otopus bank.same spe...</td>\n",
              "    </tr>\n",
              "    <tr>\n",
              "      <th>11</th>\n",
              "      <td>TScringe</td>\n",
              "      <td>QUOTE(CWW88 @ Aug 26 2019, 10:44 PM)Its been d...</td>\n",
              "    </tr>\n",
              "    <tr>\n",
              "      <th>12</th>\n",
              "      <td>alexkos</td>\n",
              "      <td>QUOTE(cringe @ Aug 26 2019, 10:45 PM)The only ...</td>\n",
              "    </tr>\n",
              "    <tr>\n",
              "      <th>13</th>\n",
              "      <td>KcX35</td>\n",
              "      <td>dam agree, dats why i have 2 bank maybank and ...</td>\n",
              "    </tr>\n",
              "    <tr>\n",
              "      <th>14</th>\n",
              "      <td>Lyu</td>\n",
              "      <td>QUOTE(JoeK @ Aug 26 2019, 10:43 PM)Lyu, you ap...</td>\n",
              "    </tr>\n",
              "    <tr>\n",
              "      <th>15</th>\n",
              "      <td>judehow</td>\n",
              "      <td>QUOTE(cringe @ Aug 26 2019, 10:37 PM)       Bl...</td>\n",
              "    </tr>\n",
              "    <tr>\n",
              "      <th>16</th>\n",
              "      <td>robert82</td>\n",
              "      <td>eh , damn bodo this cimb</td>\n",
              "    </tr>\n",
              "    <tr>\n",
              "      <th>17</th>\n",
              "      <td>JoeK</td>\n",
              "      <td>QUOTE(Lyu @ Aug 26 2019, 10:51 PM)Not yet... F...</td>\n",
              "    </tr>\n",
              "    <tr>\n",
              "      <th>18</th>\n",
              "      <td>TScringe</td>\n",
              "      <td>CIMB is down again.</td>\n",
              "    </tr>\n",
              "    <tr>\n",
              "      <th>19</th>\n",
              "      <td>robert82</td>\n",
              "      <td>topkek bank</td>\n",
              "    </tr>\n",
              "  </tbody>\n",
              "</table>\n",
              "</div>"
            ],
            "text/plain": [
              "           Person                                            Comment\n",
              "0        TScringe      Bloody useless Octopus Bank.Early they sai...\n",
              "1             Lyu                                      Lod incoming \n",
              "2      Baconateer  could it be another security issue? jeng jeng ...\n",
              "3        TScringe  QUOTE(Lyu @ Aug 26 2019, 10:38 PM)Lod incoming...\n",
              "4   thesoothsayer  Yup. Progressively getting worse with a major ...\n",
              "5             Lyu  QUOTE(cringe @ Aug 26 2019, 10:42 PM)What LOD....\n",
              "6            JoeK  QUOTE(Lyu @ Aug 26 2019, 10:38 PM)Lod incoming...\n",
              "7          sp6068  QUOTE(Baconateer @ Aug 26 2019, 10:42 PM)could...\n",
              "8           CWW88  Its been down since morning. Only got to use t...\n",
              "9    ketupatlazat               Ive said it again n againMb2u > all \n",
              "10        alexkos  one is tiger bank, one is otopus bank.same spe...\n",
              "11       TScringe  QUOTE(CWW88 @ Aug 26 2019, 10:44 PM)Its been d...\n",
              "12        alexkos  QUOTE(cringe @ Aug 26 2019, 10:45 PM)The only ...\n",
              "13          KcX35  dam agree, dats why i have 2 bank maybank and ...\n",
              "14            Lyu  QUOTE(JoeK @ Aug 26 2019, 10:43 PM)Lyu, you ap...\n",
              "15        judehow  QUOTE(cringe @ Aug 26 2019, 10:37 PM)       Bl...\n",
              "16       robert82                          eh , damn bodo this cimb \n",
              "17           JoeK  QUOTE(Lyu @ Aug 26 2019, 10:51 PM)Not yet... F...\n",
              "18       TScringe                              CIMB is down again.  \n",
              "19       robert82                                       topkek bank "
            ]
          },
          "metadata": {
            "tags": []
          },
          "execution_count": 7
        }
      ]
    },
    {
      "cell_type": "markdown",
      "metadata": {
        "id": "QrAy1sdRrevK",
        "colab_type": "text"
      },
      "source": [
        "Your table should look like the snapshot above. Now that we have the scraping algorithm, the `url` needs to be modified, since this thread has multiple pages. \n",
        "\n",
        "For page 1, the URL is https://forum.lowyat.net/topic/4828500\n",
        "\n",
        "For page 2, the URL is https://forum.lowyat.net/topic/4828500/+20\n",
        "\n",
        "For page 3, the URL is https://forum.lowyat.net/topic/4828500/+40\n",
        "\n",
        "There’s a pattern in the URL. Notice the end of the URL increases by 20 for subsequent pages. This must be some sort of comment count, since every page contains 20 comments. \n",
        "\n",
        "The URL modification can be achieved as follows. \n"
      ]
    },
    {
      "cell_type": "code",
      "metadata": {
        "id": "Wo8FDKH1rO2q",
        "colab_type": "code",
        "colab": {
          "base_uri": "https://localhost:8080/",
          "height": 419
        },
        "outputId": "3a7fc4dd-83f5-4302-9ea3-587e34d82a67"
      },
      "source": [
        "import requests\n",
        "import urllib.request\n",
        "from bs4 import BeautifulSoup\n",
        "import pandas as pd\n",
        "\n",
        "pages = [\"/+0\", \"/+20\", \"/+40\", \"/+60\"]\n",
        "comments_list = []\n",
        "names_list = []\n",
        "\n",
        "for i in range(0, len(pages)):\n",
        "  url = \"https://forum.lowyat.net/topic/4828500\"+pages[i]\n",
        "  response = requests.get(url)\n",
        "  soup = BeautifulSoup(response.text, \"html.parser\")\n",
        "  comments = soup.findAll(\"div\",{'class':\"postcolor post_text\"})\n",
        "  comments_temp = list(comments)\n",
        "\n",
        "  for i in range(len(comments_temp)):\n",
        "    comments_list.append(comments_temp[i].get_text())\n",
        "\n",
        "  names = soup.findAll(\"span\", {\"class\": \"normalname\"})\n",
        "  names_temp = list(names)\n",
        "\n",
        "  for i in range(len(names_temp)):\n",
        "    names_list.append(names_temp[i].get_text())\n",
        "\n",
        "compiled_list = list(zip(names_list, comments_list))\n",
        "\n",
        "dataframe = pd.DataFrame(compiled_list, columns = [\"Person\", \"Comment\"])\n",
        "\n",
        "dataframe"
      ],
      "execution_count": 8,
      "outputs": [
        {
          "output_type": "execute_result",
          "data": {
            "text/html": [
              "<div>\n",
              "<style scoped>\n",
              "    .dataframe tbody tr th:only-of-type {\n",
              "        vertical-align: middle;\n",
              "    }\n",
              "\n",
              "    .dataframe tbody tr th {\n",
              "        vertical-align: top;\n",
              "    }\n",
              "\n",
              "    .dataframe thead th {\n",
              "        text-align: right;\n",
              "    }\n",
              "</style>\n",
              "<table border=\"1\" class=\"dataframe\">\n",
              "  <thead>\n",
              "    <tr style=\"text-align: right;\">\n",
              "      <th></th>\n",
              "      <th>Person</th>\n",
              "      <th>Comment</th>\n",
              "    </tr>\n",
              "  </thead>\n",
              "  <tbody>\n",
              "    <tr>\n",
              "      <th>0</th>\n",
              "      <td>TScringe</td>\n",
              "      <td>Bloody useless Octopus Bank.Early they sai...</td>\n",
              "    </tr>\n",
              "    <tr>\n",
              "      <th>1</th>\n",
              "      <td>Lyu</td>\n",
              "      <td>Lod incoming</td>\n",
              "    </tr>\n",
              "    <tr>\n",
              "      <th>2</th>\n",
              "      <td>Baconateer</td>\n",
              "      <td>could it be another security issue? jeng jeng ...</td>\n",
              "    </tr>\n",
              "    <tr>\n",
              "      <th>3</th>\n",
              "      <td>TScringe</td>\n",
              "      <td>QUOTE(Lyu @ Aug 26 2019, 10:38 PM)Lod incoming...</td>\n",
              "    </tr>\n",
              "    <tr>\n",
              "      <th>4</th>\n",
              "      <td>thesoothsayer</td>\n",
              "      <td>Yup. Progressively getting worse with a major ...</td>\n",
              "    </tr>\n",
              "    <tr>\n",
              "      <th>...</th>\n",
              "      <td>...</td>\n",
              "      <td>...</td>\n",
              "    </tr>\n",
              "    <tr>\n",
              "      <th>58</th>\n",
              "      <td>lrtss18</td>\n",
              "      <td>say no to cimbeng</td>\n",
              "    </tr>\n",
              "    <tr>\n",
              "      <th>59</th>\n",
              "      <td>POYOZER</td>\n",
              "      <td>Omg. My bills still pending.</td>\n",
              "    </tr>\n",
              "    <tr>\n",
              "      <th>60</th>\n",
              "      <td>andise</td>\n",
              "      <td>still slow until today</td>\n",
              "    </tr>\n",
              "    <tr>\n",
              "      <th>61</th>\n",
              "      <td>graphidz</td>\n",
              "      <td>Remember not to keep all your money in one ban...</td>\n",
              "    </tr>\n",
              "    <tr>\n",
              "      <th>62</th>\n",
              "      <td>kcchong2000</td>\n",
              "      <td>QUOTE(graphidz @ Aug 28 2019, 11:04 AM)Remembe...</td>\n",
              "    </tr>\n",
              "  </tbody>\n",
              "</table>\n",
              "<p>63 rows × 2 columns</p>\n",
              "</div>"
            ],
            "text/plain": [
              "           Person                                            Comment\n",
              "0        TScringe      Bloody useless Octopus Bank.Early they sai...\n",
              "1             Lyu                                      Lod incoming \n",
              "2      Baconateer  could it be another security issue? jeng jeng ...\n",
              "3        TScringe  QUOTE(Lyu @ Aug 26 2019, 10:38 PM)Lod incoming...\n",
              "4   thesoothsayer  Yup. Progressively getting worse with a major ...\n",
              "..            ...                                                ...\n",
              "58        lrtss18                                 say no to cimbeng \n",
              "59        POYOZER                      Omg. My bills still pending. \n",
              "60         andise                            still slow until today \n",
              "61       graphidz  Remember not to keep all your money in one ban...\n",
              "62    kcchong2000  QUOTE(graphidz @ Aug 28 2019, 11:04 AM)Remembe...\n",
              "\n",
              "[63 rows x 2 columns]"
            ]
          },
          "metadata": {
            "tags": []
          },
          "execution_count": 8
        }
      ]
    },
    {
      "cell_type": "markdown",
      "metadata": {
        "id": "yEJpZCVUr0Tn",
        "colab_type": "text"
      },
      "source": [
        "Notice again, the code built previously served as a “foundation” for the code above. This feature is common across many data projects. Whenever you are unsure whether you can achieve a certain task, break it down by trying to get a small portion of the data first. Once this is completed, scale up your code to get all the data. \n",
        "\n",
        "Notice this dataframe has 63 rows. It indicates you now have all the comments from this particular thread. "
      ]
    },
    {
      "cell_type": "markdown",
      "metadata": {
        "id": "QLFYJU_Wr6TO",
        "colab_type": "text"
      },
      "source": [
        "#Sentiment Analysis"
      ]
    },
    {
      "cell_type": "markdown",
      "metadata": {
        "id": "BRsPbiUur-4j",
        "colab_type": "text"
      },
      "source": [
        "Now for the exciting part. The comments have been obtained - they need to be classified (into Positive, Negative, or Neutral) and scored (i.e. not all negative comments are the same as some will be more serious than others, and likewise for positive comments). \n",
        "\n",
        "There are multiple libraries available for sentiment analysis of English comments: \n",
        "\n",
        "1.   [NLTK’s sentiment](https://www.nltk.org/howto/)\n",
        "2.   [Google Cloud Natural Language API’s Sentiment Analysis](https://cloud.google.com/natural-language/docs/sentiment-tutorial)\n",
        "3.   [scikit-learn’s classifiers](https://scikit-learn.org/stable/tutorial/text_analytics/working_with_text_data.html)\n",
        "\n",
        "and so on.\n",
        "\n",
        "For this simple demonstration, I’ll be using the [afinn](https://github.com/fnielsen/afinn) classifier to obtain some business insights. Once this has been achieved, do feel free to test out other Python libraries for improved results. \n",
        "\n",
        "In your IDE, it’s likely afinn is not installed yet. In Google Colab, run the following code to install and initialize afinn."
      ]
    },
    {
      "cell_type": "code",
      "metadata": {
        "id": "MhwaejhMruup",
        "colab_type": "code",
        "colab": {
          "base_uri": "https://localhost:8080/",
          "height": 187
        },
        "outputId": "dc16422a-f983-4efa-a46c-91542631f30a"
      },
      "source": [
        "!pip install afinn\n",
        "from afinn import Afinn\n",
        "af = Afinn()"
      ],
      "execution_count": 9,
      "outputs": [
        {
          "output_type": "stream",
          "text": [
            "Collecting afinn\n",
            "\u001b[?25l  Downloading https://files.pythonhosted.org/packages/86/e5/ffbb7ee3cca21ac6d310ac01944fb163c20030b45bda25421d725d8a859a/afinn-0.1.tar.gz (52kB)\n",
            "\r\u001b[K     |██████▎                         | 10kB 15.8MB/s eta 0:00:01\r\u001b[K     |████████████▌                   | 20kB 1.7MB/s eta 0:00:01\r\u001b[K     |██████████████████▊             | 30kB 2.2MB/s eta 0:00:01\r\u001b[K     |█████████████████████████       | 40kB 2.5MB/s eta 0:00:01\r\u001b[K     |███████████████████████████████▏| 51kB 2.0MB/s eta 0:00:01\r\u001b[K     |████████████████████████████████| 61kB 1.8MB/s \n",
            "\u001b[?25hBuilding wheels for collected packages: afinn\n",
            "  Building wheel for afinn (setup.py) ... \u001b[?25l\u001b[?25hdone\n",
            "  Created wheel for afinn: filename=afinn-0.1-cp36-none-any.whl size=53452 sha256=94bcda66e9633b4d6ff09f1d05bd5d5f83b9c1a996a46b87d317b0e748a81cdc\n",
            "  Stored in directory: /root/.cache/pip/wheels/b5/1c/de/428301f3333ca509dcf20ff358690eb23a1388fbcbbde008b2\n",
            "Successfully built afinn\n",
            "Installing collected packages: afinn\n",
            "Successfully installed afinn-0.1\n"
          ],
          "name": "stdout"
        }
      ]
    },
    {
      "cell_type": "markdown",
      "metadata": {
        "id": "DftQfbANsgJl",
        "colab_type": "text"
      },
      "source": [
        "The next step is to create an empty array to store the sentiment results. Do create a sentiment category too. It’s to classify as `positive` comments which have scores above 0, `negative` for scores below 0, and `neutral` for scores which are 0. "
      ]
    },
    {
      "cell_type": "code",
      "metadata": {
        "id": "2dMaxzZ6r0lb",
        "colab_type": "code",
        "colab": {
          "base_uri": "https://localhost:8080/",
          "height": 1000
        },
        "outputId": "d839c34c-9958-4d3d-b7ec-1ed6148df0c8"
      },
      "source": [
        "sentiment_scores = []\n",
        "\n",
        "for i in range(len(dataframe)):\n",
        "  sentiment_scores.append(af.score(dataframe.iloc[i, 1]))\n",
        "\n",
        "sentiment_category = ['positive' if score > 0 \n",
        "                           else 'negative' if score < 0 \n",
        "                               else 'neutral' \n",
        "                                   for score in sentiment_scores]\n",
        "\n",
        "sentiment_scores"
      ],
      "execution_count": 10,
      "outputs": [
        {
          "output_type": "execute_result",
          "data": {
            "text/plain": [
              "[-4.0,\n",
              " 0.0,\n",
              " 0.0,\n",
              " -2.0,\n",
              " -3.0,\n",
              " -3.0,\n",
              " 0.0,\n",
              " 0.0,\n",
              " 0.0,\n",
              " 0.0,\n",
              " 0.0,\n",
              " -1.0,\n",
              " -1.0,\n",
              " 1.0,\n",
              " 2.0,\n",
              " -4.0,\n",
              " -2.0,\n",
              " 3.0,\n",
              " 0.0,\n",
              " 0.0,\n",
              " 3.0,\n",
              " -2.0,\n",
              " -2.0,\n",
              " 0.0,\n",
              " 6.0,\n",
              " 0.0,\n",
              " 0.0,\n",
              " 0.0,\n",
              " -3.0,\n",
              " 3.0,\n",
              " 0.0,\n",
              " 0.0,\n",
              " 0.0,\n",
              " 0.0,\n",
              " 0.0,\n",
              " -3.0,\n",
              " 0.0,\n",
              " -3.0,\n",
              " 1.0,\n",
              " 0.0,\n",
              " 0.0,\n",
              " 3.0,\n",
              " 0.0,\n",
              " 1.0,\n",
              " 1.0,\n",
              " 0.0,\n",
              " -2.0,\n",
              " 2.0,\n",
              " -2.0,\n",
              " 0.0,\n",
              " -2.0,\n",
              " 1.0,\n",
              " 2.0,\n",
              " 10.0,\n",
              " 0.0,\n",
              " -2.0,\n",
              " 0.0,\n",
              " 1.0,\n",
              " -1.0,\n",
              " 0.0,\n",
              " 0.0,\n",
              " -2.0,\n",
              " 0.0]"
            ]
          },
          "metadata": {
            "tags": []
          },
          "execution_count": 10
        }
      ]
    },
    {
      "cell_type": "markdown",
      "metadata": {
        "id": "aUuaT5rFsq7B",
        "colab_type": "text"
      },
      "source": [
        "The next step is to merge `sentiment_scores` and `sentiment_category` as new columns to `dataframe`. The steps to do that are as follows:\n",
        "\n",
        "1.   Turn `sentiment_scores` into a dataframe\n",
        "2.   Turn `sentiment_category` into a dataframe\n",
        "3.   Merge `sentiment_scores` and `sentiment_category` to dataframe\n",
        "4.   Display the merged dataframe and export the file as csv"
      ]
    },
    {
      "cell_type": "code",
      "metadata": {
        "id": "8IKoTSh2uMvw",
        "colab_type": "code",
        "colab": {
          "base_uri": "https://localhost:8080/",
          "height": 419
        },
        "outputId": "1ce13ae6-533d-4c63-8ddd-51253c3a3a36"
      },
      "source": [
        "sentiment_df = pd.DataFrame(sentiment_scores, columns = {'Sentiment_Scores'})\n",
        "\n",
        "category_df = pd.DataFrame(sentiment_category, columns = {\"Sentiment Category\"})\n",
        "\n",
        "df = pd.concat([dataframe, sentiment_df, category_df], axis = 1)\n",
        "\n",
        "df['Sentiment_Scores'] = df.Sentiment_Scores.astype('float')\n",
        "\n",
        "df"
      ],
      "execution_count": 12,
      "outputs": [
        {
          "output_type": "execute_result",
          "data": {
            "text/html": [
              "<div>\n",
              "<style scoped>\n",
              "    .dataframe tbody tr th:only-of-type {\n",
              "        vertical-align: middle;\n",
              "    }\n",
              "\n",
              "    .dataframe tbody tr th {\n",
              "        vertical-align: top;\n",
              "    }\n",
              "\n",
              "    .dataframe thead th {\n",
              "        text-align: right;\n",
              "    }\n",
              "</style>\n",
              "<table border=\"1\" class=\"dataframe\">\n",
              "  <thead>\n",
              "    <tr style=\"text-align: right;\">\n",
              "      <th></th>\n",
              "      <th>Person</th>\n",
              "      <th>Comment</th>\n",
              "      <th>Sentiment_Scores</th>\n",
              "      <th>Sentiment Category</th>\n",
              "    </tr>\n",
              "  </thead>\n",
              "  <tbody>\n",
              "    <tr>\n",
              "      <th>0</th>\n",
              "      <td>TScringe</td>\n",
              "      <td>Bloody useless Octopus Bank.Early they sai...</td>\n",
              "      <td>-4.0</td>\n",
              "      <td>negative</td>\n",
              "    </tr>\n",
              "    <tr>\n",
              "      <th>1</th>\n",
              "      <td>Lyu</td>\n",
              "      <td>Lod incoming</td>\n",
              "      <td>0.0</td>\n",
              "      <td>neutral</td>\n",
              "    </tr>\n",
              "    <tr>\n",
              "      <th>2</th>\n",
              "      <td>Baconateer</td>\n",
              "      <td>could it be another security issue? jeng jeng ...</td>\n",
              "      <td>0.0</td>\n",
              "      <td>neutral</td>\n",
              "    </tr>\n",
              "    <tr>\n",
              "      <th>3</th>\n",
              "      <td>TScringe</td>\n",
              "      <td>QUOTE(Lyu @ Aug 26 2019, 10:38 PM)Lod incoming...</td>\n",
              "      <td>-2.0</td>\n",
              "      <td>negative</td>\n",
              "    </tr>\n",
              "    <tr>\n",
              "      <th>4</th>\n",
              "      <td>thesoothsayer</td>\n",
              "      <td>Yup. Progressively getting worse with a major ...</td>\n",
              "      <td>-3.0</td>\n",
              "      <td>negative</td>\n",
              "    </tr>\n",
              "    <tr>\n",
              "      <th>...</th>\n",
              "      <td>...</td>\n",
              "      <td>...</td>\n",
              "      <td>...</td>\n",
              "      <td>...</td>\n",
              "    </tr>\n",
              "    <tr>\n",
              "      <th>58</th>\n",
              "      <td>lrtss18</td>\n",
              "      <td>say no to cimbeng</td>\n",
              "      <td>-1.0</td>\n",
              "      <td>negative</td>\n",
              "    </tr>\n",
              "    <tr>\n",
              "      <th>59</th>\n",
              "      <td>POYOZER</td>\n",
              "      <td>Omg. My bills still pending.</td>\n",
              "      <td>0.0</td>\n",
              "      <td>neutral</td>\n",
              "    </tr>\n",
              "    <tr>\n",
              "      <th>60</th>\n",
              "      <td>andise</td>\n",
              "      <td>still slow until today</td>\n",
              "      <td>0.0</td>\n",
              "      <td>neutral</td>\n",
              "    </tr>\n",
              "    <tr>\n",
              "      <th>61</th>\n",
              "      <td>graphidz</td>\n",
              "      <td>Remember not to keep all your money in one ban...</td>\n",
              "      <td>-2.0</td>\n",
              "      <td>negative</td>\n",
              "    </tr>\n",
              "    <tr>\n",
              "      <th>62</th>\n",
              "      <td>kcchong2000</td>\n",
              "      <td>QUOTE(graphidz @ Aug 28 2019, 11:04 AM)Remembe...</td>\n",
              "      <td>0.0</td>\n",
              "      <td>neutral</td>\n",
              "    </tr>\n",
              "  </tbody>\n",
              "</table>\n",
              "<p>63 rows × 4 columns</p>\n",
              "</div>"
            ],
            "text/plain": [
              "           Person  ... Sentiment Category\n",
              "0        TScringe  ...           negative\n",
              "1             Lyu  ...            neutral\n",
              "2      Baconateer  ...            neutral\n",
              "3        TScringe  ...           negative\n",
              "4   thesoothsayer  ...           negative\n",
              "..            ...  ...                ...\n",
              "58        lrtss18  ...           negative\n",
              "59        POYOZER  ...            neutral\n",
              "60         andise  ...            neutral\n",
              "61       graphidz  ...           negative\n",
              "62    kcchong2000  ...            neutral\n",
              "\n",
              "[63 rows x 4 columns]"
            ]
          },
          "metadata": {
            "tags": []
          },
          "execution_count": 12
        }
      ]
    },
    {
      "cell_type": "code",
      "metadata": {
        "id": "XwdJmfbfuRO7",
        "colab_type": "code",
        "colab": {}
      },
      "source": [
        "df.to_csv(\"complaints.csv\")\n",
        "from google.colab import files\n",
        "files.download(\"complaints.csv\")"
      ],
      "execution_count": null,
      "outputs": []
    }
  ]
}