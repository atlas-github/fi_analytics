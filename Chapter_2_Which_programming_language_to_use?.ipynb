{
  "nbformat": 4,
  "nbformat_minor": 0,
  "metadata": {
    "colab": {
      "name": "Chapter 2: Which programming language to use?.ipynb",
      "provenance": [],
      "authorship_tag": "ABX9TyPgkhtFtifm5CREOXMP/TCj",
      "include_colab_link": true
    },
    "kernelspec": {
      "name": "python3",
      "display_name": "Python 3"
    }
  },
  "cells": [
    {
      "cell_type": "markdown",
      "metadata": {
        "id": "view-in-github",
        "colab_type": "text"
      },
      "source": [
        "<a href=\"https://colab.research.google.com/github/atlas-github/fi_analytics/blob/master/Chapter_2_Which_programming_language_to_use%3F.ipynb\" target=\"_parent\"><img src=\"https://colab.research.google.com/assets/colab-badge.svg\" alt=\"Open In Colab\"/></a>"
      ]
    },
    {
      "cell_type": "markdown",
      "metadata": {
        "id": "ks7flMCOcIPC",
        "colab_type": "text"
      },
      "source": [
        "#SQL"
      ]
    },
    {
      "cell_type": "markdown",
      "metadata": {
        "id": "wdus8JHYcqd1",
        "colab_type": "text"
      },
      "source": [
        "[Here](https://cloud.google.com/bigquery-ml/docs/logistic-regression-prediction)'s  another good guide on building and using a classification model on census data"
      ]
    },
    {
      "cell_type": "markdown",
      "metadata": {
        "id": "wiTMkdcudNKN",
        "colab_type": "text"
      },
      "source": [
        "#R"
      ]
    },
    {
      "cell_type": "markdown",
      "metadata": {
        "id": "99OVkjogdTDb",
        "colab_type": "text"
      },
      "source": [
        "[Here](https://colab.research.google.com/#create=true&language=r)'s a sample Colab notebook connected to R runtime.\n",
        "\n",
        "Click **Runtime** >> **Change runtime type** in the R notebook."
      ]
    }
  ]
}