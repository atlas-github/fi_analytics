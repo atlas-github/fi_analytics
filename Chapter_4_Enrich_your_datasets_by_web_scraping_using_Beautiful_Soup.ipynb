{
  "nbformat": 4,
  "nbformat_minor": 0,
  "metadata": {
    "colab": {
      "name": "Chapter 4: Enrich your datasets by web scraping using Beautiful Soup.ipynb",
      "provenance": [],
      "authorship_tag": "ABX9TyMS8dCKhA4NtF+jHo7/AYr6",
      "include_colab_link": true
    },
    "kernelspec": {
      "name": "python3",
      "display_name": "Python 3"
    }
  },
  "cells": [
    {
      "cell_type": "markdown",
      "metadata": {
        "id": "view-in-github",
        "colab_type": "text"
      },
      "source": [
        "<a href=\"https://colab.research.google.com/github/atlas-github/fi_analytics/blob/master/Chapter_4_Enrich_your_datasets_by_web_scraping_using_Beautiful_Soup.ipynb\" target=\"_parent\"><img src=\"https://colab.research.google.com/assets/colab-badge.svg\" alt=\"Open In Colab\"/></a>"
      ]
    },
    {
      "cell_type": "markdown",
      "metadata": {
        "id": "TbV8yzC0hDwT",
        "colab_type": "text"
      },
      "source": [
        "#APIs: Application Programming Interfaces"
      ]
    },
    {
      "cell_type": "markdown",
      "metadata": {
        "id": "99Cc3KE9hPub",
        "colab_type": "text"
      },
      "source": [
        "Bank Negara has [Open APIs](https://api.bnm.gov.my/portal) which are accessible by the public. The API enables users to extract datasets from BNM for various applications and systems. The example below shows how to use the API to obtain Base Rates."
      ]
    },
    {
      "cell_type": "code",
      "metadata": {
        "id": "FekcF5NTg7O4",
        "colab_type": "code",
        "colab": {
          "base_uri": "https://localhost:8080/",
          "height": 1000
        },
        "outputId": "1a492d5c-cf57-4a65-fa0b-be32522a4889"
      },
      "source": [
        "!pip install requests\n",
        "\n",
        "import requests\n",
        "\n",
        "headers = {\"Accept\": \"application/vnd.BNM.API.v1+json\"}\n",
        "\n",
        "response = requests.get(\"https://api.bnm.gov.my/public/base-rate/\", headers = headers)\n",
        "\n",
        "base_rate = response.json()\n",
        "base_rate"
      ],
      "execution_count": 1,
      "outputs": [
        {
          "output_type": "stream",
          "text": [
            "Requirement already satisfied: requests in /usr/local/lib/python3.6/dist-packages (2.23.0)\n",
            "Requirement already satisfied: idna<3,>=2.5 in /usr/local/lib/python3.6/dist-packages (from requests) (2.9)\n",
            "Requirement already satisfied: chardet<4,>=3.0.2 in /usr/local/lib/python3.6/dist-packages (from requests) (3.0.4)\n",
            "Requirement already satisfied: urllib3!=1.25.0,!=1.25.1,<1.26,>=1.21.1 in /usr/local/lib/python3.6/dist-packages (from requests) (1.24.3)\n",
            "Requirement already satisfied: certifi>=2017.4.17 in /usr/local/lib/python3.6/dist-packages (from requests) (2020.6.20)\n"
          ],
          "name": "stdout"
        },
        {
          "output_type": "execute_result",
          "data": {
            "text/plain": [
              "{'data': [{'bank_code': 'BKKBMYKL',\n",
              "   'bank_name': 'Bangkok Bank Berhad',\n",
              "   'base_lending_rate': 6.12,\n",
              "   'base_rate': 3.47,\n",
              "   'indicative_eff_lending_rate': 4.67},\n",
              "  {'bank_code': 'CIBBMYKL',\n",
              "   'bank_name': 'CIMB Bank Berhad',\n",
              "   'base_lending_rate': 5.85,\n",
              "   'base_rate': 3,\n",
              "   'indicative_eff_lending_rate': 3.75},\n",
              "  {'bank_code': 'CITIMYKL',\n",
              "   'bank_name': 'Citibank Berhad',\n",
              "   'base_lending_rate': 5.8,\n",
              "   'base_rate': 2.65,\n",
              "   'indicative_eff_lending_rate': 3.45},\n",
              "  {'bank_code': 'HLBBMYKL',\n",
              "   'bank_name': 'Hong Leong Bank Malaysia Berhad',\n",
              "   'base_lending_rate': 5.89,\n",
              "   'base_rate': 2.88,\n",
              "   'indicative_eff_lending_rate': 3.75},\n",
              "  {'bank_code': 'HBMBMYKL',\n",
              "   'bank_name': 'HSBC Bank Malaysia Berhad',\n",
              "   'base_lending_rate': 5.74,\n",
              "   'base_rate': 2.64,\n",
              "   'indicative_eff_lending_rate': 3.75},\n",
              "  {'bank_code': 'ICBKMYKL',\n",
              "   'bank_name': 'Industrial and Commercial Bank of China (Malaysia) Berhad',\n",
              "   'base_lending_rate': 5.7,\n",
              "   'base_rate': 2.77,\n",
              "   'indicative_eff_lending_rate': 3.72},\n",
              "  {'bank_code': 'MBBEMYKL',\n",
              "   'bank_name': 'Malayan Banking Berhad',\n",
              "   'base_lending_rate': 5.65,\n",
              "   'base_rate': 2,\n",
              "   'indicative_eff_lending_rate': 3.5},\n",
              "  {'bank_code': 'OCBCMYKL',\n",
              "   'bank_name': 'OCBC Bank (Malaysia) Berhad',\n",
              "   'base_lending_rate': 5.76,\n",
              "   'base_rate': 2.83,\n",
              "   'indicative_eff_lending_rate': 3.95},\n",
              "  {'bank_code': 'PBBEMYKL',\n",
              "   'bank_name': 'Public Bank Berhad',\n",
              "   'base_lending_rate': 5.72,\n",
              "   'base_rate': 2.52,\n",
              "   'indicative_eff_lending_rate': 3.35},\n",
              "  {'bank_code': 'RHBBMYKL',\n",
              "   'bank_name': 'RHB Bank Berhad',\n",
              "   'base_lending_rate': 5.7,\n",
              "   'base_rate': 2.75,\n",
              "   'indicative_eff_lending_rate': 3.75},\n",
              "  {'bank_code': 'SCBLMYKX',\n",
              "   'bank_name': 'Standard Chartered Bank Malaysia Berhad',\n",
              "   'base_lending_rate': 5.7,\n",
              "   'base_rate': 2.52,\n",
              "   'indicative_eff_lending_rate': 3.75},\n",
              "  {'bank_code': 'UOVBMYKL',\n",
              "   'bank_name': 'United Overseas Bank (Malaysia) Bhd.',\n",
              "   'base_lending_rate': 5.82,\n",
              "   'base_rate': 2.86,\n",
              "   'indicative_eff_lending_rate': 3.61},\n",
              "  {'bank_code': 'AIBBMYKL',\n",
              "   'bank_name': 'Affin Islamic Bank Berhad',\n",
              "   'base_financing_rate': 5.81,\n",
              "   'base_rate': 2.95,\n",
              "   'indicative_eff_lending_rate': 3.5},\n",
              "  {'bank_code': 'ALSRMYKL',\n",
              "   'bank_name': 'Alliance Islamic Bank Berhad',\n",
              "   'base_financing_rate': 5.67,\n",
              "   'base_rate': 2.82,\n",
              "   'indicative_eff_lending_rate': 3.36},\n",
              "  {'bank_code': 'AISLMYKL',\n",
              "   'bank_name': 'AmBank Islamic Berhad',\n",
              "   'base_financing_rate': 5.7,\n",
              "   'base_rate': 2.85,\n",
              "   'indicative_eff_lending_rate': 3.5},\n",
              "  {'bank_code': 'BIMBMYKL',\n",
              "   'bank_name': 'Bank Islam Malaysia Berhad',\n",
              "   'base_financing_rate': 5.72,\n",
              "   'base_rate': 2.77,\n",
              "   'indicative_eff_lending_rate': 3.5},\n",
              "  {'bank_code': 'BMMBMYKL',\n",
              "   'bank_name': 'Bank Muamalat Malaysia Berhad',\n",
              "   'base_financing_rate': 5.81,\n",
              "   'base_rate': 2.81,\n",
              "   'indicative_eff_lending_rate': 3.81},\n",
              "  {'bank_code': 'CTBBMYKL',\n",
              "   'bank_name': 'CIMB Islamic Bank Berhad',\n",
              "   'base_financing_rate': 5.85,\n",
              "   'base_rate': 3,\n",
              "   'indicative_eff_lending_rate': 3.75},\n",
              "  {'bank_code': 'HLIBMYKL',\n",
              "   'bank_name': 'Hong Leong Islamic Bank Berhad',\n",
              "   'base_financing_rate': 5.89,\n",
              "   'base_rate': 2.88,\n",
              "   'indicative_eff_lending_rate': 3.6},\n",
              "  {'bank_code': 'HMABMYKL',\n",
              "   'bank_name': 'HSBC Amanah Malaysia Berhad',\n",
              "   'base_financing_rate': 5.74,\n",
              "   'base_rate': 2.64,\n",
              "   'indicative_eff_lending_rate': 3.75},\n",
              "  {'bank_code': 'KFHOMYKL',\n",
              "   'bank_name': 'Kuwait Finance House (Malaysia) Berhad',\n",
              "   'base_financing_rate': 6.39,\n",
              "   'base_rate': 2.5,\n",
              "   'indicative_eff_lending_rate': 3.55},\n",
              "  {'bank_code': 'MBISMYKL',\n",
              "   'bank_name': 'Maybank Islamic Berhad',\n",
              "   'base_financing_rate': 5.65,\n",
              "   'base_rate': 2,\n",
              "   'indicative_eff_lending_rate': 3.5},\n",
              "  {'bank_code': 'AFBQMYKL',\n",
              "   'bank_name': 'MBSB Bank Berhad',\n",
              "   'base_financing_rate': 5.75,\n",
              "   'base_rate': 2.9,\n",
              "   'indicative_eff_lending_rate': 3.45},\n",
              "  {'bank_code': 'OABBMYKL',\n",
              "   'bank_name': 'OCBC Al-Amin Bank Berhad',\n",
              "   'base_financing_rate': 5.76,\n",
              "   'base_rate': 2.83,\n",
              "   'indicative_eff_lending_rate': 3.95},\n",
              "  {'bank_code': 'PUIBMYKL',\n",
              "   'bank_name': 'Public Islamic Bank Berhad',\n",
              "   'base_financing_rate': 5.72,\n",
              "   'base_rate': 2.52,\n",
              "   'indicative_eff_lending_rate': 3.35},\n",
              "  {'bank_code': 'RHBAMYKL',\n",
              "   'bank_name': 'RHB Islamic Bank Berhad',\n",
              "   'base_financing_rate': 5.7,\n",
              "   'base_rate': 2.75,\n",
              "   'indicative_eff_lending_rate': 3.75},\n",
              "  {'bank_code': 'SCSRMYKK',\n",
              "   'bank_name': 'Standard Chartered Saadiq Berhad',\n",
              "   'base_financing_rate': 5.7,\n",
              "   'base_rate': 2.52,\n",
              "   'indicative_eff_lending_rate': 3.75},\n",
              "  {'bank_code': 'AGOBMYKL',\n",
              "   'bank_name': 'Agrobank',\n",
              "   'base_financing_rate': 5.75,\n",
              "   'base_rate': 2.6,\n",
              "   'indicative_eff_lending_rate': None},\n",
              "  {'bank_code': 'BSNAMYK1',\n",
              "   'bank_name': 'Bank Simpanan Nasional',\n",
              "   'base_financing_rate': 5.6,\n",
              "   'base_rate': 2.85,\n",
              "   'indicative_eff_lending_rate': 3.35},\n",
              "  {'bank_code': 'PHBMMYKL',\n",
              "   'bank_name': 'Affin Bank Berhad',\n",
              "   'base_lending_rate': 5.81,\n",
              "   'base_rate': 2.95,\n",
              "   'indicative_eff_lending_rate': 3.5},\n",
              "  {'bank_code': 'MFBBMYKL',\n",
              "   'bank_name': 'Alliance Bank Malaysia Berhad',\n",
              "   'base_lending_rate': 5.67,\n",
              "   'base_rate': 2.82,\n",
              "   'indicative_eff_lending_rate': 3.36},\n",
              "  {'bank_code': 'ARBKMYKL',\n",
              "   'bank_name': 'AmBank (M) Berhad',\n",
              "   'base_lending_rate': 5.7,\n",
              "   'base_rate': 2.85,\n",
              "   'indicative_eff_lending_rate': 3.5},\n",
              "  {'bank_code': 'BKCHMYKL',\n",
              "   'bank_name': 'Bank of China (M) Berhad',\n",
              "   'base_lending_rate': 5.6,\n",
              "   'base_rate': 2.8,\n",
              "   'indicative_eff_lending_rate': 3.8},\n",
              "  {'bank_code': 'RJHIMYKL',\n",
              "   'bank_name': 'Al Rajhi Banking & Investment (M) Berhad',\n",
              "   'base_financing_rate': 6,\n",
              "   'base_rate': 3.1,\n",
              "   'indicative_eff_lending_rate': 4.45},\n",
              "  {'bank_code': 'BKRMMYKL',\n",
              "   'bank_name': 'Bank Kerjasama Rakyat (M) Berhad',\n",
              "   'base_financing_rate': 5.83,\n",
              "   'base_rate': 2.85,\n",
              "   'indicative_eff_lending_rate': 3.65}],\n",
              " 'meta': {'effective_date': '2020-05-20',\n",
              "  'last_updated': '2020-05-22 10:44:09',\n",
              "  'total_result': 35}}"
            ]
          },
          "metadata": {
            "tags": []
          },
          "execution_count": 1
        }
      ]
    },
    {
      "cell_type": "code",
      "metadata": {
        "id": "VNy1rL9_hHAW",
        "colab_type": "code",
        "colab": {}
      },
      "source": [
        ""
      ],
      "execution_count": null,
      "outputs": []
    }
  ]
}